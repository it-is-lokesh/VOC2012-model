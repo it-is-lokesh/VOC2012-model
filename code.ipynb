{
 "cells": [
  {
   "attachments": {},
   "cell_type": "markdown",
   "metadata": {},
   "source": [
    "# Normalization"
   ]
  },
  {
   "attachments": {},
   "cell_type": "markdown",
   "metadata": {},
   "source": [
    "#### 1. Importing the libraries"
   ]
  },
  {
   "cell_type": "code",
   "execution_count": 1,
   "metadata": {},
   "outputs": [],
   "source": [
    "import os\n",
    "import numpy as np\n",
    "from datetime import datetime, date, timedelta\n",
    "import tensorflow as tf\n",
    "from tensorflow import keras\n",
    "from keras.layers import *\n",
    "from datetime import datetime\n",
    "\n",
    "dateT = datetime.now().strftime(\"%D\")\n",
    "dateT = dateT.replace('/', '_')\n"
   ]
  },
  {
   "attachments": {},
   "cell_type": "markdown",
   "metadata": {},
   "source": [
    "#### 2. Loading the data into training and validation set"
   ]
  },
  {
   "cell_type": "code",
   "execution_count": 2,
   "metadata": {},
   "outputs": [
    {
     "name": "stdout",
     "output_type": "stream",
     "text": [
      "Found 17125 files belonging to 20 classes.\n",
      "Using 15413 files for training.\n"
     ]
    }
   ],
   "source": [
    "train = keras.utils.image_dataset_from_directory(\n",
    "    directory = './dataset',\n",
    "    validation_split=0.1,\n",
    "    subset='training',\n",
    "    seed=123,\n",
    "    labels = 'inferred',\n",
    "    label_mode = 'int',\n",
    "    image_size = (128, 128),\n",
    ")"
   ]
  },
  {
   "cell_type": "code",
   "execution_count": 3,
   "metadata": {},
   "outputs": [
    {
     "name": "stdout",
     "output_type": "stream",
     "text": [
      "Found 17125 files belonging to 20 classes.\n",
      "Using 3425 files for validation.\n"
     ]
    }
   ],
   "source": [
    "val = keras.utils.image_dataset_from_directory(\n",
    "    directory = './dataset',\n",
    "    validation_split=0.2,\n",
    "    subset='validation',\n",
    "    seed=123,\n",
    "    labels = 'inferred',\n",
    "    label_mode = 'int',\n",
    "    image_size = (128, 128),\n",
    ")"
   ]
  },
  {
   "attachments": {},
   "cell_type": "markdown",
   "metadata": {},
   "source": [
    "#### 3. Normalizing the image dataset"
   ]
  },
  {
   "cell_type": "code",
   "execution_count": 4,
   "metadata": {},
   "outputs": [],
   "source": [
    "normalization_layer = tf.keras.layers.Rescaling(1./255)\n",
    "\n",
    "train_norm = train.map(lambda x, y: (normalization_layer(x), y))\n",
    "val_norm = val.map(lambda x, y: (normalization_layer(x), y))"
   ]
  },
  {
   "attachments": {},
   "cell_type": "markdown",
   "metadata": {},
   "source": [
    "#### 4. Initializing the model architechture"
   ]
  },
  {
   "cell_type": "code",
   "execution_count": 5,
   "metadata": {},
   "outputs": [],
   "source": [
    "model = tf.keras.Sequential([\n",
    "    Conv2D(32, kernel_size=(5,5), padding='valid', activation='relu', input_shape=(128,128,3)),\n",
    "    MaxPooling2D(pool_size=(2,2), padding='valid'),\n",
    "    Dropout(rate=0.2),\n",
    "\n",
    "    Conv2D(64, kernel_size=(5,5), padding='valid', activation='relu'),\n",
    "    MaxPooling2D(pool_size=(2,2), padding='valid'),\n",
    "    Dropout(rate=0.3),\n",
    "\n",
    "    Conv2D(128, kernel_size=(3,3), padding='valid', activation='relu'),\n",
    "    MaxPooling2D(pool_size=(2,2), padding='valid'),\n",
    "    Dropout(rate=0.5),\n",
    "    \n",
    "    Conv2D(256, kernel_size=(3,3), padding='valid', activation='relu'),\n",
    "    MaxPooling2D(pool_size=(2,2), padding='valid'),\n",
    "    Dropout(rate=0.5),\n",
    "\n",
    "    Flatten(),\n",
    "    Dense(128, activation='relu'),\n",
    "    Dropout(rate=0.4),\n",
    "    Dense(64, activation='relu'),\n",
    "    Dropout(rate=0.2),\n",
    "    Dense(20, activation='sigmoid')\n",
    "])"
   ]
  },
  {
   "cell_type": "code",
   "execution_count": null,
   "metadata": {},
   "outputs": [],
   "source": [
    "model.summary()"
   ]
  },
  {
   "cell_type": "code",
   "execution_count": null,
   "metadata": {},
   "outputs": [],
   "source": [
    "# Run to clear the learned weights\n",
    "\n",
    "tf.keras.backend.clear_session()"
   ]
  },
  {
   "cell_type": "code",
   "execution_count": 6,
   "metadata": {},
   "outputs": [
    {
     "data": {
      "text/plain": [
       "<tensorflow.python.checkpoint.checkpoint.CheckpointLoadStatus at 0x201e8953d30>"
      ]
     },
     "execution_count": 6,
     "metadata": {},
     "output_type": "execute_result"
    }
   ],
   "source": [
    "# Run to load previous weights\n",
    "\n",
    "today = date.today()\n",
    "yesterday = today - timedelta(days=1)\n",
    "\n",
    "path='model_checkpoints/' + yesterday.strftime(\"%D\").replace('/', '_') + '/model.pkl'\n",
    "\n",
    "model.load_weights(path)"
   ]
  },
  {
   "cell_type": "code",
   "execution_count": 7,
   "metadata": {},
   "outputs": [
    {
     "name": "stdout",
     "output_type": "stream",
     "text": [
      "Epoch 1/30\n"
     ]
    }
   ],
   "source": [
    "class myCallback(tf.keras.callbacks.Callback):\n",
    "\tdef on_epoch_end(self, epoch, logs={}):\n",
    "\t\tif(logs.get('accuracy') > 0.70):\n",
    "\t\t\tprint(logs)\n",
    "\t\t\tprint(\"\\nReached the required accuracy, so stopping training!!\")\n",
    "\t\t\tself.model.stop_training = True\n",
    "\n",
    "callback = myCallback()\n",
    "\n",
    "model.compile(optimizer='adam', loss='sparse_categorical_crossentropy', metrics=['accuracy'])\n",
    "history = model.fit(train_norm, epochs=30, validation_data=val_norm, callbacks=[callback])"
   ]
  },
  {
   "cell_type": "code",
   "execution_count": null,
   "metadata": {},
   "outputs": [],
   "source": [
    "path='model_checkpoints/'+dateT+'/model.pkl'\n",
    "model.save_weights(path)"
   ]
  },
  {
   "cell_type": "code",
   "execution_count": null,
   "metadata": {},
   "outputs": [],
   "source": [
    "accuracy = history.history['accuracy']\n",
    "loss = history.history['loss']\n",
    "val_loss = history.history['val_loss']\n",
    "val_accuracy = history.history['val_accuracy']\n",
    "\n",
    "import matplotlib.pyplot as plt\n",
    "\n",
    "epochs = range(1, len(accuracy) + 1)\n",
    "\n",
    "plt.plot(epochs, accuracy, 'b', label='Training acc')\n",
    "plt.plot(epochs, val_accuracy, 'y', label='Validation acc')\n",
    "plt.title('Training and test accuracy')\n",
    "plt.legend()\n",
    "plt.savefig('model_checkpoints/'+dateT+'/accuracy2.png', bbox_inches='tight')\n",
    "plt.figure()\n",
    "\n",
    "plt.plot(epochs, loss, 'b', label='Training loss')\n",
    "plt.plot(epochs, val_loss, 'y', label='Validation loss')\n",
    "plt.title('Training and test loss')\n",
    "plt.legend()\n",
    "plt.savefig('model_checkpoints/'+dateT+'/loss2.png', bbox_inches='tight')\n",
    "plt.show()\n",
    "\n",
    "\n",
    "# plt.savefig('foo.pdf')"
   ]
  },
  {
   "cell_type": "code",
   "execution_count": null,
   "metadata": {},
   "outputs": [],
   "source": [
    "temp = np.array([history.history['accuracy'], history.history['loss'], history.history['val_accuracy'], history.history['val_loss']])\n",
    "np.save('model_checkpoints/'+dateT+'/metrics2.npy', temp)"
   ]
  }
 ],
 "metadata": {
  "kernelspec": {
   "display_name": "tf_env",
   "language": "python",
   "name": "python3"
  },
  "language_info": {
   "codemirror_mode": {
    "name": "ipython",
    "version": 3
   },
   "file_extension": ".py",
   "mimetype": "text/x-python",
   "name": "python",
   "nbconvert_exporter": "python",
   "pygments_lexer": "ipython3",
   "version": "3.9.0"
  },
  "orig_nbformat": 4,
  "vscode": {
   "interpreter": {
    "hash": "7a68a27eae3f8ed019bc26fe79b465279a6a2215f530f9e93e839108122c485b"
   }
  }
 },
 "nbformat": 4,
 "nbformat_minor": 2
}
