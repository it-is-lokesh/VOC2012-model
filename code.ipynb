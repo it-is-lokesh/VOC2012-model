{
 "cells": [
  {
   "attachments": {},
   "cell_type": "markdown",
   "metadata": {},
   "source": [
    "# Normalization"
   ]
  },
  {
   "attachments": {},
   "cell_type": "markdown",
   "metadata": {},
   "source": [
    "#### 1. Importing the libraries"
   ]
  },
  {
   "cell_type": "code",
   "execution_count": 1,
   "metadata": {},
   "outputs": [],
   "source": [
    "import os\n",
    "import numpy as np\n",
    "from datetime import datetime, date, timedelta\n",
    "import tensorflow as tf\n",
    "from tensorflow import keras\n",
    "from keras.layers import *\n",
    "from datetime import datetime\n",
    "import matplotlib.pyplot as plt\n",
    "\n",
    "dateT = '03_18_23'"
   ]
  },
  {
   "attachments": {},
   "cell_type": "markdown",
   "metadata": {},
   "source": [
    "#### 2. Loading the data into training and validation set"
   ]
  },
  {
   "cell_type": "code",
   "execution_count": 2,
   "metadata": {},
   "outputs": [
    {
     "name": "stdout",
     "output_type": "stream",
     "text": [
      "Found 17125 files belonging to 20 classes.\n",
      "Using 15413 files for training.\n"
     ]
    }
   ],
   "source": [
    "train = keras.utils.image_dataset_from_directory(\n",
    "    directory = './dataset',\n",
    "    validation_split=0.1,\n",
    "    subset='training',\n",
    "    seed=123,\n",
    "    labels = 'inferred',\n",
    "    label_mode = 'int',\n",
    "    image_size = (128, 128),\n",
    ")"
   ]
  },
  {
   "cell_type": "code",
   "execution_count": 3,
   "metadata": {},
   "outputs": [
    {
     "name": "stdout",
     "output_type": "stream",
     "text": [
      "Found 17125 files belonging to 20 classes.\n",
      "Using 3425 files for validation.\n"
     ]
    }
   ],
   "source": [
    "val = keras.utils.image_dataset_from_directory(\n",
    "    directory = './dataset',\n",
    "    validation_split=0.2,\n",
    "    subset='validation',\n",
    "    seed=123,\n",
    "    labels = 'inferred',\n",
    "    label_mode = 'int',\n",
    "    image_size = (128, 128),\n",
    ")"
   ]
  },
  {
   "attachments": {},
   "cell_type": "markdown",
   "metadata": {},
   "source": [
    "#### 3. Normalizing the image dataset"
   ]
  },
  {
   "cell_type": "code",
   "execution_count": 4,
   "metadata": {},
   "outputs": [],
   "source": [
    "normalization_layer = tf.keras.layers.Rescaling(1./255)\n",
    "\n",
    "train_norm = train.map(lambda x, y: (normalization_layer(x), y))\n",
    "val_norm = val.map(lambda x, y: (normalization_layer(x), y))"
   ]
  },
  {
   "attachments": {},
   "cell_type": "markdown",
   "metadata": {},
   "source": [
    "#### 4. Initializing the model architechture"
   ]
  },
  {
   "cell_type": "code",
   "execution_count": 5,
   "metadata": {},
   "outputs": [],
   "source": [
    "# Model configuration\n",
    "\n",
    "leaky_relu = tf.keras.layers.LeakyReLU(alpha=0.3)\n",
    "relu = 'relu'\n",
    "tanh = 'tanh'\n",
    "sigmoid = 'sigmoid'\n",
    "softmax = 'softmax'\n",
    "thresh_relu = tf.keras.layers.ThresholdedReLU(0.1)"
   ]
  },
  {
   "cell_type": "code",
   "execution_count": 19,
   "metadata": {},
   "outputs": [],
   "source": [
    "model = tf.keras.Sequential([\n",
    "    Conv2D(8, kernel_size=(5,5), padding='valid', activation=leaky_relu, input_shape=(128,128,3)),\n",
    "    MaxPooling2D(pool_size=(2,2), padding='valid'),\n",
    "    Dropout(rate=0.5),\n",
    "\n",
    "    Conv2D(4, kernel_size=(5,5), padding='valid', activation=leaky_relu),\n",
    "    MaxPooling2D(pool_size=(2,2), padding='valid'),\n",
    "    Dropout(rate=0.3),\n",
    "\n",
    "    Flatten(),\n",
    "    Dense(128, activation=leaky_relu),\n",
    "    Dropout(rate=0.2),\n",
    "    Dense(64, activation=leaky_relu),\n",
    "    Dropout(rate=0.1),\n",
    "    Dense(20, activation=softmax)\n",
    "])"
   ]
  },
  {
   "cell_type": "code",
   "execution_count": 13,
   "metadata": {},
   "outputs": [
    {
     "name": "stdout",
     "output_type": "stream",
     "text": [
      "Model: \"sequential_1\"\n",
      "_________________________________________________________________\n",
      " Layer (type)                Output Shape              Param #   \n",
      "=================================================================\n",
      " conv2d_2 (Conv2D)           (None, 124, 124, 4)       304       \n",
      "                                                                 \n",
      " max_pooling2d_2 (MaxPooling  (None, 62, 62, 4)        0         \n",
      " 2D)                                                             \n",
      "                                                                 \n",
      " dropout_3 (Dropout)         (None, 62, 62, 4)         0         \n",
      "                                                                 \n",
      " conv2d_3 (Conv2D)           (None, 58, 58, 2)         202       \n",
      "                                                                 \n",
      " max_pooling2d_3 (MaxPooling  (None, 29, 29, 2)        0         \n",
      " 2D)                                                             \n",
      "                                                                 \n",
      " dropout_4 (Dropout)         (None, 29, 29, 2)         0         \n",
      "                                                                 \n",
      " flatten_1 (Flatten)         (None, 1682)              0         \n",
      "                                                                 \n",
      " dense_2 (Dense)             (None, 128)               215424    \n",
      "                                                                 \n",
      " dropout_5 (Dropout)         (None, 128)               0         \n",
      "                                                                 \n",
      " dense_3 (Dense)             (None, 64)                8256      \n",
      "                                                                 \n",
      " dropout_6 (Dropout)         (None, 64)                0         \n",
      "                                                                 \n",
      " dense_4 (Dense)             (None, 20)                1300      \n",
      "                                                                 \n",
      "=================================================================\n",
      "Total params: 225,486\n",
      "Trainable params: 225,486\n",
      "Non-trainable params: 0\n",
      "_________________________________________________________________\n"
     ]
    }
   ],
   "source": [
    "model.summary()"
   ]
  },
  {
   "cell_type": "code",
   "execution_count": null,
   "metadata": {},
   "outputs": [],
   "source": [
    "# Run to clear the learned weights\n",
    "\n",
    "tf.keras.backend.clear_session()"
   ]
  },
  {
   "cell_type": "code",
   "execution_count": null,
   "metadata": {},
   "outputs": [],
   "source": [
    "# Run to load previous weights\n",
    "\n",
    "yesterday = '01_23_23'\n",
    "\n",
    "path='model_checkpoints/' + yesterday + '/model.pkl'\n",
    "\n",
    "model.load_weights(path)"
   ]
  },
  {
   "cell_type": "code",
   "execution_count": 20,
   "metadata": {},
   "outputs": [
    {
     "name": "stdout",
     "output_type": "stream",
     "text": [
      "Epoch 1/50\n",
      "482/482 [==============================] - 14s 27ms/step - loss: 2.3301 - accuracy: 0.4000 - val_loss: 2.4291 - val_accuracy: 0.3145\n",
      "Epoch 2/50\n",
      "482/482 [==============================] - 12s 25ms/step - loss: 2.1328 - accuracy: 0.4110 - val_loss: 2.4554 - val_accuracy: 0.3147\n",
      "Epoch 3/50\n",
      "482/482 [==============================] - 12s 24ms/step - loss: 2.0420 - accuracy: 0.4227 - val_loss: 2.0438 - val_accuracy: 0.4426\n",
      "Epoch 4/50\n",
      "482/482 [==============================] - 12s 24ms/step - loss: 1.9736 - accuracy: 0.4313 - val_loss: 2.1343 - val_accuracy: 0.4044\n",
      "Epoch 5/50\n",
      "482/482 [==============================] - 12s 25ms/step - loss: 1.9092 - accuracy: 0.4424 - val_loss: 1.8991 - val_accuracy: 0.4584\n",
      "Epoch 6/50\n",
      "482/482 [==============================] - 12s 25ms/step - loss: 1.8573 - accuracy: 0.4531 - val_loss: 1.8781 - val_accuracy: 0.4672\n",
      "Epoch 7/50\n",
      "482/482 [==============================] - 12s 25ms/step - loss: 1.7960 - accuracy: 0.4660 - val_loss: 2.1227 - val_accuracy: 0.3740\n",
      "Epoch 8/50\n",
      "482/482 [==============================] - 13s 26ms/step - loss: 1.7441 - accuracy: 0.4718 - val_loss: 1.8956 - val_accuracy: 0.4511\n",
      "Epoch 9/50\n",
      "482/482 [==============================] - 14s 28ms/step - loss: 1.7008 - accuracy: 0.4812 - val_loss: 2.0017 - val_accuracy: 0.4166\n",
      "Epoch 10/50\n",
      "482/482 [==============================] - 13s 27ms/step - loss: 1.6615 - accuracy: 0.4868 - val_loss: 1.7844 - val_accuracy: 0.5001\n",
      "Epoch 11/50\n",
      "482/482 [==============================] - 13s 26ms/step - loss: 1.6219 - accuracy: 0.4959 - val_loss: 1.8077 - val_accuracy: 0.4870\n",
      "Epoch 12/50\n",
      "482/482 [==============================] - 13s 26ms/step - loss: 1.5867 - accuracy: 0.5067 - val_loss: 1.6467 - val_accuracy: 0.5378\n",
      "Epoch 13/50\n",
      "482/482 [==============================] - 13s 26ms/step - loss: 1.5395 - accuracy: 0.5134 - val_loss: 1.7057 - val_accuracy: 0.5279\n",
      "Epoch 14/50\n",
      "482/482 [==============================] - 13s 26ms/step - loss: 1.5046 - accuracy: 0.5301 - val_loss: 1.7482 - val_accuracy: 0.5212\n",
      "Epoch 15/50\n",
      "482/482 [==============================] - 13s 26ms/step - loss: 1.4833 - accuracy: 0.5316 - val_loss: 1.7244 - val_accuracy: 0.5255\n",
      "Epoch 16/50\n",
      "482/482 [==============================] - 13s 26ms/step - loss: 1.4455 - accuracy: 0.5399 - val_loss: 1.7868 - val_accuracy: 0.5069\n",
      "Epoch 17/50\n",
      "482/482 [==============================] - 12s 25ms/step - loss: 1.4200 - accuracy: 0.5448 - val_loss: 1.6490 - val_accuracy: 0.5431\n",
      "Epoch 18/50\n",
      "482/482 [==============================] - 13s 27ms/step - loss: 1.4022 - accuracy: 0.5488 - val_loss: 1.7693 - val_accuracy: 0.5130\n",
      "Epoch 19/50\n",
      "482/482 [==============================] - 12s 25ms/step - loss: 1.3629 - accuracy: 0.5595 - val_loss: 1.6555 - val_accuracy: 0.5477\n",
      "Epoch 20/50\n",
      "482/482 [==============================] - 12s 25ms/step - loss: 1.3435 - accuracy: 0.5664 - val_loss: 1.6054 - val_accuracy: 0.5766\n",
      "Epoch 21/50\n",
      "482/482 [==============================] - 13s 26ms/step - loss: 1.3250 - accuracy: 0.5743 - val_loss: 1.6770 - val_accuracy: 0.5515\n",
      "Epoch 22/50\n",
      "482/482 [==============================] - 13s 26ms/step - loss: 1.3135 - accuracy: 0.5720 - val_loss: 1.5928 - val_accuracy: 0.5845\n",
      "Epoch 23/50\n",
      "482/482 [==============================] - 13s 26ms/step - loss: 1.2883 - accuracy: 0.5847 - val_loss: 1.5468 - val_accuracy: 0.6032\n",
      "Epoch 24/50\n",
      "482/482 [==============================] - 12s 25ms/step - loss: 1.2594 - accuracy: 0.5886 - val_loss: 1.5499 - val_accuracy: 0.6026\n",
      "Epoch 25/50\n",
      "482/482 [==============================] - 13s 26ms/step - loss: 1.2521 - accuracy: 0.5918 - val_loss: 1.6923 - val_accuracy: 0.5509\n",
      "Epoch 26/50\n",
      "482/482 [==============================] - 13s 26ms/step - loss: 1.2268 - accuracy: 0.5988 - val_loss: 1.5883 - val_accuracy: 0.5965\n",
      "Epoch 27/50\n",
      "482/482 [==============================] - 13s 26ms/step - loss: 1.2053 - accuracy: 0.6031 - val_loss: 1.5755 - val_accuracy: 0.5997\n",
      "Epoch 28/50\n",
      "482/482 [==============================] - 13s 26ms/step - loss: 1.2022 - accuracy: 0.6045 - val_loss: 1.6042 - val_accuracy: 0.5901\n",
      "Epoch 29/50\n",
      "482/482 [==============================] - 13s 26ms/step - loss: 1.1832 - accuracy: 0.6103 - val_loss: 1.6690 - val_accuracy: 0.5708\n",
      "Epoch 30/50\n",
      "482/482 [==============================] - 13s 26ms/step - loss: 1.1742 - accuracy: 0.6147 - val_loss: 1.5496 - val_accuracy: 0.6082\n",
      "Epoch 31/50\n",
      "482/482 [==============================] - 13s 26ms/step - loss: 1.1518 - accuracy: 0.6167 - val_loss: 1.6278 - val_accuracy: 0.5927\n",
      "Epoch 32/50\n",
      "482/482 [==============================] - 12s 26ms/step - loss: 1.1340 - accuracy: 0.6245 - val_loss: 1.5035 - val_accuracy: 0.6324\n",
      "Epoch 33/50\n",
      "482/482 [==============================] - 13s 26ms/step - loss: 1.1472 - accuracy: 0.6184 - val_loss: 1.5707 - val_accuracy: 0.6222\n",
      "Epoch 34/50\n",
      "482/482 [==============================] - 14s 28ms/step - loss: 1.1263 - accuracy: 0.6239 - val_loss: 1.6175 - val_accuracy: 0.6009\n",
      "Epoch 35/50\n",
      "482/482 [==============================] - 13s 26ms/step - loss: 1.1257 - accuracy: 0.6288 - val_loss: 1.5548 - val_accuracy: 0.6286\n",
      "Epoch 36/50\n",
      "482/482 [==============================] - 13s 26ms/step - loss: 1.0989 - accuracy: 0.6343 - val_loss: 1.5198 - val_accuracy: 0.6406\n",
      "Epoch 37/50\n",
      "482/482 [==============================] - 13s 26ms/step - loss: 1.0960 - accuracy: 0.6371 - val_loss: 1.4830 - val_accuracy: 0.6438\n",
      "Epoch 38/50\n",
      "482/482 [==============================] - 13s 26ms/step - loss: 1.0720 - accuracy: 0.6430 - val_loss: 1.5747 - val_accuracy: 0.6242\n",
      "Epoch 39/50\n",
      "482/482 [==============================] - 13s 26ms/step - loss: 1.0875 - accuracy: 0.6421 - val_loss: 1.6692 - val_accuracy: 0.5769\n",
      "Epoch 40/50\n",
      "482/482 [==============================] - 13s 26ms/step - loss: 1.0534 - accuracy: 0.6471 - val_loss: 1.6051 - val_accuracy: 0.6111\n",
      "Epoch 41/50\n",
      "482/482 [==============================] - 13s 26ms/step - loss: 1.0420 - accuracy: 0.6544 - val_loss: 1.4971 - val_accuracy: 0.6499\n",
      "Epoch 42/50\n",
      "482/482 [==============================] - 13s 26ms/step - loss: 1.0407 - accuracy: 0.6542 - val_loss: 1.5459 - val_accuracy: 0.6315\n",
      "Epoch 43/50\n",
      "482/482 [==============================] - 13s 26ms/step - loss: 1.0412 - accuracy: 0.6537 - val_loss: 1.5677 - val_accuracy: 0.6365\n",
      "Epoch 44/50\n",
      "482/482 [==============================] - 13s 26ms/step - loss: 1.0357 - accuracy: 0.6537 - val_loss: 1.4462 - val_accuracy: 0.6590\n",
      "Epoch 45/50\n",
      "482/482 [==============================] - 13s 26ms/step - loss: 1.0214 - accuracy: 0.6628 - val_loss: 1.4946 - val_accuracy: 0.6537\n",
      "Epoch 46/50\n",
      "482/482 [==============================] - 13s 26ms/step - loss: 1.0219 - accuracy: 0.6607 - val_loss: 1.4992 - val_accuracy: 0.6581\n",
      "Epoch 47/50\n",
      "482/482 [==============================] - 13s 26ms/step - loss: 1.0068 - accuracy: 0.6658 - val_loss: 1.4951 - val_accuracy: 0.6584\n",
      "Epoch 48/50\n",
      "482/482 [==============================] - 13s 26ms/step - loss: 1.0059 - accuracy: 0.6668 - val_loss: 1.6175 - val_accuracy: 0.6228\n",
      "Epoch 49/50\n",
      "482/482 [==============================] - 13s 26ms/step - loss: 0.9934 - accuracy: 0.6688 - val_loss: 1.4991 - val_accuracy: 0.6531\n",
      "Epoch 50/50\n",
      "482/482 [==============================] - 13s 26ms/step - loss: 0.9881 - accuracy: 0.6711 - val_loss: 1.4798 - val_accuracy: 0.6569\n"
     ]
    }
   ],
   "source": [
    "# class myCallback(tf.keras.callbacks.Callback):\n",
    "# \tdef on_epoch_end(self, epoch, logs={}):\n",
    "# \t\tif(logs.get('accuracy') > 0.80):\n",
    "# \t\t\tprint(logs)\n",
    "# \t\t\tprint(\"\\nReached the required accuracy, so stopping training!!\")\n",
    "# \t\t\tself.model.stop_training = True\n",
    "\n",
    "# callback = myCallback()\n",
    "\n",
    "callback = tf.keras.callbacks.EarlyStopping(\n",
    "    monitor='loss',\n",
    "    min_delta=0.01,\n",
    "    patience=5,\n",
    "    verbose=0,\n",
    "    mode='auto',\n",
    "    baseline=None,\n",
    "    restore_best_weights=True,\n",
    ")\n",
    "\n",
    "adam = tf.keras.optimizers.Adam(\n",
    "    learning_rate=0.001,\n",
    "    beta_1=0.9,\n",
    "    beta_2=0.999,\n",
    "    epsilon=1e-07,\n",
    "    name='Adam',\n",
    ")\n",
    "\n",
    "model.compile(optimizer=adam, loss='sparse_categorical_crossentropy', metrics=['accuracy'])\n",
    "history = model.fit(train_norm, epochs=50, validation_data=val_norm, callbacks=[callback])"
   ]
  },
  {
   "cell_type": "code",
   "execution_count": 10,
   "metadata": {},
   "outputs": [],
   "source": [
    "path='model_checkpoints/'+dateT+'/model3.pkl'\n",
    "model.save_weights(path)"
   ]
  },
  {
   "cell_type": "code",
   "execution_count": 21,
   "metadata": {},
   "outputs": [
    {
     "data": {
      "image/png": "[encoded data removed]",
      "text/plain": [
       "<Figure size 640x480 with 1 Axes>"
      ]
     },
     "metadata": {},
     "output_type": "display_data"
    },
    {
     "data": {
      "image/png": "[encoded data removed]",
      "text/plain": [
       "<Figure size 640x480 with 1 Axes>"
      ]
     },
     "metadata": {},
     "output_type": "display_data"
    }
   ],
   "source": [
    "accuracy = history.history['accuracy']\n",
    "loss = history.history['loss']\n",
    "val_loss = history.history['val_loss']\n",
    "val_accuracy = history.history['val_accuracy']\n",
    "\n",
    "epochs = range(1, len(accuracy) + 1)\n",
    "\n",
    "plt.plot(epochs, accuracy, 'b', label='Training acc')\n",
    "plt.plot(epochs, val_accuracy, 'y', label='Validation acc')\n",
    "plt.title('Training and test accuracy')\n",
    "plt.legend()\n",
    "plt.savefig('model_checkpoints/'+dateT+'/accuracy3.png', bbox_inches='tight')\n",
    "plt.figure()\n",
    "\n",
    "plt.plot(epochs, loss, 'b', label='Training loss')\n",
    "plt.plot(epochs, val_loss, 'y', label='Validation loss')\n",
    "plt.title('Training and test loss')\n",
    "plt.legend()\n",
    "plt.savefig('model_checkpoints/'+dateT+'/loss3.png', bbox_inches='tight')\n",
    "plt.show()"
   ]
  },
  {
   "attachments": {},
   "cell_type": "markdown",
   "metadata": {},
   "source": [
    "#### 4. Plot the model statistics till latest training"
   ]
  },
  {
   "cell_type": "code",
   "execution_count": null,
   "metadata": {},
   "outputs": [],
   "source": [
    "t_acc = np.load('model_checkpoints/'+yesterday+'/modelStatsTillDate_train_acc.npy')\n",
    "t_loss = np.load('model_checkpoints/'+yesterday+'/modelStatsTillDate_train_loss.npy')\n",
    "v_acc = np.load('model_checkpoints/'+yesterday+'/modelStatsTillDate_val_acc.npy')\n",
    "v_loss = np.load('model_checkpoints/'+yesterday+'/modelStatsTillDate_val_loss.npy')\n",
    "\n",
    "accuracy = history.history['accuracy']\n",
    "loss = history.history['loss']\n",
    "val_loss = history.history['val_loss']\n",
    "val_accuracy = history.history['val_accuracy']\n",
    "\n",
    "t_acc = np.append(t_acc, accuracy)\n",
    "t_loss = np.append(t_loss, loss)\n",
    "v_acc = np.append(v_acc, val_accuracy)\n",
    "v_loss = np.append(v_loss, val_loss)\n",
    "\n",
    "np.save('model_checkpoints/'+dateT+'/modelStatsTillDate_train_acc.npy', t_acc)\n",
    "np.save('model_checkpoints/'+dateT+'/modelStatsTillDate_train_loss.npy', t_loss)\n",
    "np.save('model_checkpoints/'+dateT+'/modelStatsTillDate_val_acc.npy', v_acc)\n",
    "np.save('model_checkpoints/'+dateT+'/modelStatsTillDate_val_loss.npy', v_loss)\n",
    "\n",
    "epochs = range(1, len(t_acc) + 1)\n",
    "\n",
    "plt.plot(epochs, t_acc, 'b', label='Training acc')\n",
    "plt.plot(epochs, v_acc, 'y', label='Validation acc')\n",
    "plt.title('Training and test accuracy')\n",
    "plt.legend()\n",
    "plt.savefig('model_checkpoints/'+dateT+'/modelStatsTillDate_accuracy.png', bbox_inches='tight')\n",
    "plt.figure()\n",
    "\n",
    "plt.plot(epochs, t_loss, 'b', label='Training loss')\n",
    "plt.plot(epochs, v_loss, 'y', label='Validation loss')\n",
    "plt.title('Training and test loss')\n",
    "plt.legend()\n",
    "plt.savefig('model_checkpoints/'+dateT+'/modelStatsTillDate_loss.png', bbox_inches='tight')\n",
    "plt.show()"
   ]
  },
  {
   "cell_type": "code",
   "execution_count": null,
   "metadata": {},
   "outputs": [],
   "source": [
    "temp = np.array([history.history['accuracy'], history.history['loss'], history.history['val_accuracy'], history.history['val_loss']])\n",
    "np.save('model_checkpoints/'+dateT+'/metrics5.npy', temp)"
   ]
  },
  {
   "cell_type": "code",
   "execution_count": null,
   "metadata": {},
   "outputs": [],
   "source": [
    "t_acc = np.array([])\n",
    "t_loss = np.array([])\n",
    "v_acc = np.array([])\n",
    "v_loss = np.array([])"
   ]
  },
  {
   "cell_type": "code",
   "execution_count": null,
   "metadata": {},
   "outputs": [],
   "source": [
    "t_acc = np.load('model_checkpoints/'+yesterday+'/modelStatsTillDate_train_acc.npy')\n",
    "t_loss = np.load('model_checkpoints/'+yesterday+'/modelStatsTillDate_train_loss.npy')\n",
    "v_acc = np.load('model_checkpoints/'+yesterday+'/modelStatsTillDate_val_acc.npy')\n",
    "v_loss = np.load('model_checkpoints/'+yesterday+'/modelStatsTillDate_val_loss.npy')\n",
    "\n",
    "metrics = np.load('model_checkpoints/'+dateT+'/metrics5.npy')\n",
    "acc = metrics[0]\n",
    "loss = metrics[1]\n",
    "val_acc = metrics[2]\n",
    "val_loss = metrics[3]\n",
    "\n",
    "t_acc = np.append(t_acc, acc)\n",
    "t_loss = np.append(t_loss, loss)\n",
    "v_acc = np.append(v_acc, val_acc)\n",
    "v_loss = np.append(v_loss, val_loss)"
   ]
  },
  {
   "cell_type": "code",
   "execution_count": null,
   "metadata": {},
   "outputs": [],
   "source": [
    "np.shape(t_acc)"
   ]
  },
  {
   "cell_type": "code",
   "execution_count": null,
   "metadata": {},
   "outputs": [],
   "source": [
    "np.save('model_checkpoints/'+dateT+'/modelStatsTillDate_train_acc.npy', t_acc)\n",
    "np.save('model_checkpoints/'+dateT+'/modelStatsTillDate_train_loss.npy', t_loss)\n",
    "np.save('model_checkpoints/'+dateT+'/modelStatsTillDate_val_acc.npy', v_acc)\n",
    "np.save('model_checkpoints/'+dateT+'/modelStatsTillDate_val_loss.npy', v_loss)"
   ]
  }
 ],
 "metadata": {
  "kernelspec": {
   "display_name": "tf_env",
   "language": "python",
   "name": "python3"
  },
  "language_info": {
   "codemirror_mode": {
    "name": "ipython",
    "version": 3
   },
   "file_extension": ".py",
   "mimetype": "text/x-python",
   "name": "python",
   "nbconvert_exporter": "python",
   "pygments_lexer": "ipython3",
   "version": "3.9.0"
  },
  "orig_nbformat": 4,
  "vscode": {
   "interpreter": {
    "hash": "7a68a27eae3f8ed019bc26fe79b465279a6a2215f530f9e93e839108122c485b"
   }
  }
 },
 "nbformat": 4,
 "nbformat_minor": 2
}
